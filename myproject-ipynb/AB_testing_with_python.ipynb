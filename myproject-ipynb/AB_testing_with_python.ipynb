{
 "cells": [
  {
   "cell_type": "markdown",
   "id": "feb124b6-2bde-4a9f-97b9-d92a67fafa47",
   "metadata": {},
   "source": [
    "<a target=\"_blank\" href=\"https://colab.research.google.com/github/felicebenita99/Data-Science/blob/main/myproject-ipynb/AB_testing_with_python.ipynb\">\r\n",
    "  <img src=\"https://colab.research.google.com/assets/colab-badge.svg\" alt=\"Open In Colab\"/>\r\n",
    "</a>"
   ]
  },
  {
   "cell_type": "markdown",
   "id": "1ab11e91-ccdf-4242-af94-39facd593154",
   "metadata": {},
   "source": [
    "# A/B Testing Implementation in Python 📎\n",
    "Use statistical tests (Chi-square and t-test) to determine if there's a statistically significant difference in engagement (CTR and conversion) between the two email subject lines.<br/>\n",
    "\n",
    "#### <ins>Created by: Felice Benita</ins>"
   ]
  },
  {
   "cell_type": "markdown",
   "id": "a1497628-efa4-449d-8db8-e8aa14465f80",
   "metadata": {},
   "source": [
    "#### Dataset: Online Learning Platform - Email Engagement Campaign\n",
    "\n",
    "\n",
    "##### Context\n",
    "\n",
    "You're working with an online learning platform that offers various courses and certifications. The goal of this A/B test is to increase user engagement by testing two types of email subject lines aimed at encouraging users to return to the platform and resume a course they previously enrolled in.\n",
    "\n",
    "##### Objective of the A/B Test\n",
    "Analyze which email subject line variant results in a higher:\n",
    "<ul><li>Click-through rate (CTR)</li>\n",
    "<li>Conversion rate (resuming the course)</li></ul>"
   ]
  },
  {
   "cell_type": "markdown",
   "id": "1a08dfc1-eaec-432b-a3cd-3ac9bd75738d",
   "metadata": {},
   "source": [
    "##### Data Structure\n",
    "\n",
    "User ID: Unique identifier for each user.<br/>\n",
    "Age: Age group (e.g., 18-25, 26-35, etc.) of the user, which could impact engagement levels.<br/>\n",
    "Enrollment Type: Whether the user enrolled for a free trial or paid subscription.<br/>\n",
    "Course Category: The category of the course enrolled in (e.g., Data Science, Marketing, Design).<br/>\n",
    "Previous Engagement Level: Historical data indicating low, medium, or high engagement based on past actions.<br/>\n",
    "Email Variant (A/B): The variant of the subject line used for each user (e.g., \"Variant A: 'Complete Your Course in Record Time!' \" or \"Variant B: 'Your Learning Journey Awaits - Resume Now!'\").<br/>\n",
    "Click-Through Rate (CTR): Whether the user clicked the email (0 for no, 1 for yes).<br/>\n",
    "Conversion Rate: Whether the user resumed their course after opening the email (0 for no, 1 for yes).<br/>"
   ]
  },
  {
   "cell_type": "code",
   "execution_count": 1,
   "id": "c1d57ad6-d732-4ade-a5af-4ced68dc47c9",
   "metadata": {},
   "outputs": [],
   "source": [
    "# Import libraries\n",
    "\n",
    "import pandas as pd\n",
    "import numpy as np\n",
    "import matplotlib.pyplot as plt\n",
    "import seaborn as sns\n",
    "\n",
    "from sklearn import preprocessing"
   ]
  },
  {
   "cell_type": "code",
   "execution_count": 2,
   "id": "d3234784-bf0d-4a8e-9f1d-0b50a4509f3e",
   "metadata": {},
   "outputs": [
    {
     "data": {
      "text/html": [
       "<div>\n",
       "<style scoped>\n",
       "    .dataframe tbody tr th:only-of-type {\n",
       "        vertical-align: middle;\n",
       "    }\n",
       "\n",
       "    .dataframe tbody tr th {\n",
       "        vertical-align: top;\n",
       "    }\n",
       "\n",
       "    .dataframe thead th {\n",
       "        text-align: right;\n",
       "    }\n",
       "</style>\n",
       "<table border=\"1\" class=\"dataframe\">\n",
       "  <thead>\n",
       "    <tr style=\"text-align: right;\">\n",
       "      <th></th>\n",
       "      <th>User_ID</th>\n",
       "      <th>Age_Group</th>\n",
       "      <th>Enrollment_Type</th>\n",
       "      <th>Course_Category</th>\n",
       "      <th>Previous_Engagement_Level</th>\n",
       "      <th>Email_Variant</th>\n",
       "      <th>CTR</th>\n",
       "      <th>Conversion_Rate</th>\n",
       "    </tr>\n",
       "  </thead>\n",
       "  <tbody>\n",
       "    <tr>\n",
       "      <th>0</th>\n",
       "      <td>User_1</td>\n",
       "      <td>26-35</td>\n",
       "      <td>Paid Subscription</td>\n",
       "      <td>Data Science</td>\n",
       "      <td>High</td>\n",
       "      <td>B</td>\n",
       "      <td>0</td>\n",
       "      <td>0</td>\n",
       "    </tr>\n",
       "    <tr>\n",
       "      <th>1</th>\n",
       "      <td>User_2</td>\n",
       "      <td>56+</td>\n",
       "      <td>Paid Subscription</td>\n",
       "      <td>Data Science</td>\n",
       "      <td>High</td>\n",
       "      <td>A</td>\n",
       "      <td>1</td>\n",
       "      <td>0</td>\n",
       "    </tr>\n",
       "    <tr>\n",
       "      <th>2</th>\n",
       "      <td>User_3</td>\n",
       "      <td>18-25</td>\n",
       "      <td>Free Trial</td>\n",
       "      <td>Data Science</td>\n",
       "      <td>Medium</td>\n",
       "      <td>A</td>\n",
       "      <td>1</td>\n",
       "      <td>0</td>\n",
       "    </tr>\n",
       "    <tr>\n",
       "      <th>3</th>\n",
       "      <td>User_4</td>\n",
       "      <td>56+</td>\n",
       "      <td>Paid Subscription</td>\n",
       "      <td>Marketing</td>\n",
       "      <td>Low</td>\n",
       "      <td>B</td>\n",
       "      <td>0</td>\n",
       "      <td>0</td>\n",
       "    </tr>\n",
       "    <tr>\n",
       "      <th>4</th>\n",
       "      <td>User_5</td>\n",
       "      <td>36-45</td>\n",
       "      <td>Paid Subscription</td>\n",
       "      <td>Programming</td>\n",
       "      <td>Medium</td>\n",
       "      <td>B</td>\n",
       "      <td>0</td>\n",
       "      <td>0</td>\n",
       "    </tr>\n",
       "  </tbody>\n",
       "</table>\n",
       "</div>"
      ],
      "text/plain": [
       "  User_ID Age_Group    Enrollment_Type Course_Category  \\\n",
       "0  User_1     26-35  Paid Subscription    Data Science   \n",
       "1  User_2       56+  Paid Subscription    Data Science   \n",
       "2  User_3     18-25         Free Trial    Data Science   \n",
       "3  User_4       56+  Paid Subscription       Marketing   \n",
       "4  User_5     36-45  Paid Subscription     Programming   \n",
       "\n",
       "  Previous_Engagement_Level Email_Variant  CTR  Conversion_Rate  \n",
       "0                      High             B    0                0  \n",
       "1                      High             A    1                0  \n",
       "2                    Medium             A    1                0  \n",
       "3                       Low             B    0                0  \n",
       "4                    Medium             B    0                0  "
      ]
     },
     "execution_count": 2,
     "metadata": {},
     "output_type": "execute_result"
    }
   ],
   "source": [
    "# Reading data\n",
    "df = pd.read_csv('File Dirr/online_learning_email_engagement.csv')\n",
    "df.head()"
   ]
  },
  {
   "cell_type": "markdown",
   "id": "5daa9235-55e9-4639-8e27-2ef0fb734e55",
   "metadata": {},
   "source": [
    "#### Distribution of CTR and Conversion Rate"
   ]
  },
  {
   "cell_type": "code",
   "execution_count": 3,
   "id": "9d603f3d-243b-4ca9-a892-7fc1ff146913",
   "metadata": {},
   "outputs": [
    {
     "data": {
      "text/plain": [
       "<Axes: xlabel='CTR', ylabel='Density'>"
      ]
     },
     "execution_count": 3,
     "metadata": {},
     "output_type": "execute_result"
    },
    {
     "data": {
      "image/png": "[encoded data removed]",
      "text/plain": [
       "<Figure size 640x480 with 1 Axes>"
      ]
     },
     "metadata": {},
     "output_type": "display_data"
    }
   ],
   "source": [
    "sns.histplot(df[\"CTR\"], kde=True, stat=\"density\", kde_kws=dict(cut=3))"
   ]
  },
  {
   "cell_type": "code",
   "execution_count": 4,
   "id": "eabf3d03-0f9c-4757-8980-6f391d76cd8a",
   "metadata": {},
   "outputs": [
    {
     "data": {
      "text/plain": [
       "<Axes: xlabel='Conversion_Rate', ylabel='Density'>"
      ]
     },
     "execution_count": 4,
     "metadata": {},
     "output_type": "execute_result"
    },
    {
     "data": {
      "image/png": "[encoded data removed]",
      "text/plain": [
       "<Figure size 640x480 with 1 Axes>"
      ]
     },
     "metadata": {},
     "output_type": "display_data"
    }
   ],
   "source": [
    "sns.histplot(df[\"Conversion_Rate\"], kde=True, stat=\"density\", kde_kws=dict(cut=3))"
   ]
  },
  {
   "cell_type": "markdown",
   "id": "4faf034a-5a10-403d-a71e-820485141bb0",
   "metadata": {},
   "source": [
    "<span style=\"color: #383dc4; font-size: 18px; font-weight:bold;\">T-Test</span>"
   ]
  },
  {
   "cell_type": "code",
   "execution_count": 5,
   "id": "7c521f1d-b588-4784-af35-eeaf82da3c70",
   "metadata": {},
   "outputs": [
    {
     "name": "stdout",
     "output_type": "stream",
     "text": [
      "A/B Testing Results Using T-Test:\n",
      "Click-Through Rate T-Test: t-statistic = -2.654, p-value = 0.008\n",
      "Conversion Rate T-Test: t-statistic = -1.880, p-value = 0.060\n",
      "The difference in Click-Through Rates between variants A and B is statistically significant.\n",
      "The difference in Conversion Rates between variants A and B is not statistically significant.\n"
     ]
    }
   ],
   "source": [
    "from scipy.stats import ttest_ind\n",
    "\n",
    "# Separate the data for each email variant\n",
    "clicks_A = df[df['Email_Variant'] == 'A']['CTR']\n",
    "clicks_B = df[df['Email_Variant'] == 'B']['CTR']\n",
    "\n",
    "conversions_A = df[df['Email_Variant'] == 'A']['Conversion_Rate']\n",
    "conversions_B = df[df['Email_Variant'] == 'B']['Conversion_Rate']\n",
    "\n",
    "# Perform t-tests for click-through rate and conversion rate\n",
    "t_stat_click, p_val_click = ttest_ind(clicks_A, clicks_B, equal_var=False)\n",
    "t_stat_conversion, p_val_conversion = ttest_ind(conversions_A, conversions_B, equal_var=False)\n",
    "\n",
    "# Display the results\n",
    "print(\"A/B Testing Results Using T-Test:\")\n",
    "print(f\"Click-Through Rate T-Test: t-statistic = {t_stat_click:.3f}, p-value = {p_val_click:.3f}\")\n",
    "print(f\"Conversion Rate T-Test: t-statistic = {t_stat_conversion:.3f}, p-value = {p_val_conversion:.3f}\")\n",
    "\n",
    "# Interpretation\n",
    "if p_val_click < 0.05:\n",
    "    print(\"The difference in Click-Through Rates between variants A and B is statistically significant.\")\n",
    "else:\n",
    "    print(\"The difference in Click-Through Rates between variants A and B is not statistically significant.\")\n",
    "\n",
    "if p_val_conversion < 0.05:\n",
    "    print(\"The difference in Conversion Rates between variants A and B is statistically significant.\")\n",
    "else:\n",
    "    print(\"The difference in Conversion Rates between variants A and B is not statistically significant.\")"
   ]
  },
  {
   "cell_type": "markdown",
   "id": "a91f7ed1-c8db-45da-83f5-1616affe9e4e",
   "metadata": {},
   "source": [
    "##### = Slice data by user demographics (age & enrollment type) to see if certain groups respond better to one email variant over another. ="
   ]
  },
  {
   "cell_type": "code",
   "execution_count": 6,
   "id": "22b74872-b72d-41e7-9135-d7c7349d0813",
   "metadata": {},
   "outputs": [
    {
     "name": "stdout",
     "output_type": "stream",
     "text": [
      "\n",
      "Analyzing response rates by 'Age_Group' and Email Variant\n",
      "\n",
      "'Age_Group' = 26-35\n",
      "CTR T-Test: t-statistic = -2.187, p-value = 0.029\n",
      "Conversion Rate T-Test: t-statistic = -0.482, p-value = 0.630\n",
      "--------------------------------------------------\n",
      "'Age_Group' = 56+\n",
      "CTR T-Test: t-statistic = -0.943, p-value = 0.346\n",
      "Conversion Rate T-Test: t-statistic = -1.546, p-value = 0.123\n",
      "--------------------------------------------------\n",
      "'Age_Group' = 18-25\n",
      "CTR T-Test: t-statistic = -0.372, p-value = 0.710\n",
      "Conversion Rate T-Test: t-statistic = 0.782, p-value = 0.435\n",
      "--------------------------------------------------\n",
      "'Age_Group' = 36-45\n",
      "CTR T-Test: t-statistic = -1.129, p-value = 0.260\n",
      "Conversion Rate T-Test: t-statistic = -2.689, p-value = 0.008\n",
      "--------------------------------------------------\n",
      "'Age_Group' = 46-55\n",
      "CTR T-Test: t-statistic = -1.365, p-value = 0.173\n",
      "Conversion Rate T-Test: t-statistic = -0.470, p-value = 0.639\n",
      "--------------------------------------------------\n",
      "\n",
      "Analyzing response rates by 'Enrollment_Type' and Email Variant\n",
      "\n",
      "'Enrollment_Type' = Paid Subscription\n",
      "CTR T-Test: t-statistic = -2.356, p-value = 0.019\n",
      "Conversion Rate T-Test: t-statistic = -1.112, p-value = 0.267\n",
      "--------------------------------------------------\n",
      "'Enrollment_Type' = Free Trial\n",
      "CTR T-Test: t-statistic = -1.420, p-value = 0.156\n",
      "Conversion Rate T-Test: t-statistic = -1.529, p-value = 0.127\n",
      "--------------------------------------------------\n",
      "\n",
      "Summary of t-test results for each demographic group:\n",
      "  Demographic Group  Demographic Value  Click-Through Rate T-Statistic  \\\n",
      "0         Age_Group              26-35                       -2.187410   \n",
      "1         Age_Group                56+                       -0.943120   \n",
      "2         Age_Group              18-25                       -0.372080   \n",
      "3         Age_Group              36-45                       -1.128988   \n",
      "4         Age_Group              46-55                       -1.364579   \n",
      "5   Enrollment_Type  Paid Subscription                       -2.356180   \n",
      "6   Enrollment_Type         Free Trial                       -1.420145   \n",
      "\n",
      "   Click-Through Rate P-Value  Conversion Rate T-Statistic  \\\n",
      "0                    0.029257                    -0.481923   \n",
      "1                    0.346197                    -1.546003   \n",
      "2                    0.710038                     0.781971   \n",
      "3                    0.259633                    -2.688774   \n",
      "4                    0.173156                    -0.469613   \n",
      "5                    0.018662                    -1.111761   \n",
      "6                    0.155872                    -1.528857   \n",
      "\n",
      "   Conversion Rate P-Value  \n",
      "0                 0.630107  \n",
      "1                 0.123076  \n",
      "2                 0.434763  \n",
      "3                 0.007812  \n",
      "4                 0.638889  \n",
      "5                 0.266523  \n",
      "6                 0.126626  \n"
     ]
    }
   ],
   "source": [
    "from scipy.stats import ttest_ind\n",
    "\n",
    "# Define demographic groups to analyze\n",
    "demographic_groups = ['Age_Group', 'Enrollment_Type']\n",
    "results = []\n",
    "\n",
    "for group in demographic_groups:\n",
    "    print(f\"\\nAnalyzing response rates by '{group}' and Email Variant\\n\")\n",
    "    \n",
    "    # Loop through each unique value in the demographic group\n",
    "    for val in df[group].unique():\n",
    "        # Filter data by the current demographic value\n",
    "        subgroup = df[df[group] == val]\n",
    "        \n",
    "        # Separate data for each email variant within the demographic subgroup\n",
    "        clicks_A = subgroup[subgroup['Email_Variant'] == 'A']['CTR']\n",
    "        clicks_B = subgroup[subgroup['Email_Variant'] == 'B']['CTR']\n",
    "        \n",
    "        conversions_A = subgroup[subgroup['Email_Variant'] == 'A']['Conversion_Rate']\n",
    "        conversions_B = subgroup[subgroup['Email_Variant'] == 'B']['Conversion_Rate']\n",
    "        \n",
    "        # Perform t-tests for click-through rate and conversion rate\n",
    "        t_stat_click, p_val_click = ttest_ind(clicks_A, clicks_B, equal_var=False)\n",
    "        t_stat_conversion, p_val_conversion = ttest_ind(conversions_A, conversions_B, equal_var=False)\n",
    "        \n",
    "        # Append results for each demographic value\n",
    "        results.append({\n",
    "            'Demographic Group': group,\n",
    "            'Demographic Value': val,\n",
    "            'Click-Through Rate T-Statistic': t_stat_click,\n",
    "            'Click-Through Rate P-Value': p_val_click,\n",
    "            'Conversion Rate T-Statistic': t_stat_conversion,\n",
    "            'Conversion Rate P-Value': p_val_conversion\n",
    "        })\n",
    "        \n",
    "        # Display results\n",
    "        print(f\"'{group}' = {val}\")\n",
    "        print(f\"CTR T-Test: t-statistic = {t_stat_click:.3f}, p-value = {p_val_click:.3f}\")\n",
    "        print(f\"Conversion Rate T-Test: t-statistic = {t_stat_conversion:.3f}, p-value = {p_val_conversion:.3f}\")\n",
    "        print(\"-\" * 50)\n",
    "\n",
    "# Convert results to DataFrame for easier analysis\n",
    "results_df = pd.DataFrame(results)\n",
    "print(\"\\nSummary of t-test results for each demographic group:\")\n",
    "print(results_df)"
   ]
  },
  {
   "cell_type": "markdown",
   "id": "8ede2e26-f4fb-46ed-a805-a4635f5cc398",
   "metadata": {},
   "source": [
    "<span style=\"color: #383dc4; font-size: 18px; font-weight:bold;\">Chi-Square Test</span>"
   ]
  },
  {
   "cell_type": "code",
   "execution_count": 7,
   "id": "964b3f12-4df0-4b2d-820b-65b0b870ba2a",
   "metadata": {},
   "outputs": [],
   "source": [
    "# Keep a copy data\n",
    "data = df.copy()"
   ]
  },
  {
   "cell_type": "code",
   "execution_count": 8,
   "id": "3732a009-31ca-45d6-8e80-14e1eb5ccb25",
   "metadata": {},
   "outputs": [
    {
     "data": {
      "text/plain": [
       "(  Email_Variant    CTR  Conversion_Rate\n",
       " 0             A  0.176            0.021\n",
       " 1             B  0.224            0.035,\n",
       " 0.009574780481740784,\n",
       " 0.08254156333647118)"
      ]
     },
     "execution_count": 8,
     "metadata": {},
     "output_type": "execute_result"
    }
   ],
   "source": [
    "from scipy.stats import chi2_contingency\n",
    "\n",
    "# Summarize data for the A/B test\n",
    "ab_summary = data.groupby('Email_Variant').agg(\n",
    "    total_clicks=('CTR', 'sum'),\n",
    "    total_users=('User_ID', 'count'),\n",
    "    total_conversions=('Conversion_Rate', 'sum')\n",
    ").reset_index()\n",
    "\n",
    "# Calculate click-through rate and conversion rate per email variant\n",
    "ab_summary['CTR'] = ab_summary['total_clicks'] / ab_summary['total_users']\n",
    "ab_summary['Conversion_Rate'] = ab_summary['total_conversions'] / ab_summary['total_users']\n",
    "\n",
    "# Create contingency table for click-through rates\n",
    "click_contingency = pd.crosstab(df['Email_Variant'], data['CTR'])\n",
    "\n",
    "# Chi-square test for independence to compare click-through rates\n",
    "chi2_click, p_click, _, _ = chi2_contingency(click_contingency)\n",
    "\n",
    "# Create contingency table for conversion rates\n",
    "conversion_contingency = pd.crosstab(data['Email_Variant'], data['Conversion_Rate'])\n",
    "\n",
    "# Chi-square test for independence to compare conversion rates\n",
    "chi2_conversion, p_conversion, _, _ = chi2_contingency(conversion_contingency)\n",
    "\n",
    "# Display the results\n",
    "ab_summary[['Email_Variant', 'CTR', 'Conversion_Rate']].round(3), p_click, p_conversion"
   ]
  },
  {
   "cell_type": "markdown",
   "id": "20e4954f-4155-4710-85da-b8df1f6b3c84",
   "metadata": {},
   "source": [
    "##### = Slice data by user demographics (age & enrollment type) to see if certain groups respond better to one email variant over another. ="
   ]
  },
  {
   "cell_type": "code",
   "execution_count": 9,
   "id": "3e33e861-406b-4086-a94c-9e6d4dee4189",
   "metadata": {},
   "outputs": [
    {
     "name": "stdout",
     "output_type": "stream",
     "text": [
      "\n",
      "Analyzing response rates by 'Age_Group' and Email Variant\n",
      "  Email_Variant Age_Group       CTR  Conversion_Rate\n",
      "0             A     18-25  0.196809         0.026596\n",
      "1             B     18-25  0.212121         0.015152\n",
      "2             A     26-35  0.169014         0.028169\n",
      "3             B     26-35  0.254545         0.036364\n",
      "4             A     36-45  0.179348         0.000000\n",
      "5             B     36-45  0.226316         0.036842\n",
      "6             A     46-55  0.146739         0.032609\n",
      "7             B     46-55  0.198157         0.041475\n",
      "8             A       56+  0.188679         0.018868\n",
      "9             B       56+  0.226804         0.046392\n",
      "\n",
      "'Age_Group' = 26-35\n",
      "CTR p-value: 0.039618619254737926, Conversion Rate p-value: 0.8334912270345369\n",
      "\n",
      "'Age_Group' = 56+\n",
      "CTR p-value: 0.4095815077051188, Conversion Rate p-value: 0.1965843836129775\n",
      "\n",
      "'Age_Group' = 18-25\n",
      "CTR p-value: 0.8052847370903811, Conversion Rate p-value: 0.6661291492433739\n",
      "\n",
      "'Age_Group' = 36-45\n",
      "CTR p-value: 0.31731256459846024, Conversion Rate p-value: 0.024655808501377215\n",
      "\n",
      "'Age_Group' = 46-55\n",
      "CTR p-value: 0.222604626157735, Conversion Rate p-value: 0.8397889947763398\n",
      "\n",
      "Analyzing response rates by 'Enrollment_Type' and Email Variant\n",
      "  Email_Variant    Enrollment_Type       CTR  Conversion_Rate\n",
      "0             A         Free Trial  0.190381         0.022044\n",
      "1             B         Free Trial  0.226488         0.038388\n",
      "2             A  Paid Subscription  0.161826         0.020747\n",
      "3             B  Paid Subscription  0.220884         0.032129\n",
      "\n",
      "'Enrollment_Type' = Paid Subscription\n",
      "CTR p-value: 0.023435426125837582, Conversion Rate p-value: 0.3630344460100082\n",
      "\n",
      "'Enrollment_Type' = Free Trial\n",
      "CTR p-value: 0.17987852447236719, Conversion Rate p-value: 0.18104578655886408\n",
      "\n",
      "Summary of p-values for each demographic group and variant:\n",
      "  Demographic Group  Demographic Value  CTR P-Value  Conversion Rate P-Value\n",
      "0         Age_Group              26-35     0.039619                 0.833491\n",
      "1         Age_Group                56+     0.409582                 0.196584\n",
      "2         Age_Group              18-25     0.805285                 0.666129\n",
      "3         Age_Group              36-45     0.317313                 0.024656\n",
      "4         Age_Group              46-55     0.222605                 0.839789\n",
      "5   Enrollment_Type  Paid Subscription     0.023435                 0.363034\n",
      "6   Enrollment_Type         Free Trial     0.179879                 0.181046\n"
     ]
    }
   ],
   "source": [
    "import pandas as pd\n",
    "from scipy.stats import chi2_contingency\n",
    "\n",
    "# Grouping data by demographics (e.g., Age Group, Enrollment Type) and Email Variant\n",
    "demographic_groups = ['Age_Group', 'Enrollment_Type']\n",
    "results = []\n",
    "\n",
    "for group in demographic_groups:\n",
    "    print(f\"\\nAnalyzing response rates by '{group}' and Email Variant\")\n",
    "    \n",
    "    # Group by demographic attribute and email variant\n",
    "    demographic_summary = data.groupby([group, 'Email_Variant']).agg(\n",
    "        total_clicks=('CTR', 'sum'),\n",
    "        total_users=('User_ID', 'count'),\n",
    "        total_conversions=('Conversion_Rate', 'sum')\n",
    "    ).reset_index()\n",
    "    \n",
    "    # Calculate CTR and Conversion Rate within each group and email variant\n",
    "    demographic_summary['CTR'] = demographic_summary['total_clicks'] / demographic_summary['total_users']\n",
    "    demographic_summary['Conversion_Rate'] = demographic_summary['total_conversions'] / demographic_summary['total_users']\n",
    "    print(demographic_summary[['Email_Variant', group, 'CTR', 'Conversion_Rate']])\n",
    "\n",
    "    # Pivot the data to create a contingency table for CTR\n",
    "    for val in df[group].unique():\n",
    "        click_contingency = pd.crosstab(data[data[group] == val]['Email_Variant'], \n",
    "                                        data[data[group] == val]['CTR'])\n",
    "        conversion_contingency = pd.crosstab(data[data[group] == val]['Email_Variant'], \n",
    "                                             data[data[group] == val]['Conversion_Rate'])\n",
    "        \n",
    "        # Chi-square tests\n",
    "        chi2_click, p_click, _, _ = chi2_contingency(click_contingency)\n",
    "        chi2_conversion, p_conversion, _, _ = chi2_contingency(conversion_contingency)\n",
    "        \n",
    "        # Collect and display results\n",
    "        results.append({\n",
    "            'Demographic Group': group,\n",
    "            'Demographic Value': val,\n",
    "            'CTR P-Value': p_click,\n",
    "            'Conversion Rate P-Value': p_conversion\n",
    "        })\n",
    "        \n",
    "        print(f\"\\n'{group}' = {val}\")\n",
    "        print(f\"CTR p-value: {p_click}, Conversion Rate p-value: {p_conversion}\")\n",
    "\n",
    "# Display the summarized test results\n",
    "results_df = pd.DataFrame(results)\n",
    "print(\"\\nSummary of p-values for each demographic group and variant:\")\n",
    "print(results_df)"
   ]
  },
  {
   "cell_type": "markdown",
   "id": "f690f14d-1fd5-4465-9847-9b57f5b5c939",
   "metadata": {},
   "source": [
    "<br/>\n",
    "<span style=\"color: #191970; font-size: 16px; font-weight:bold;\">Created by: Felice Benita</span>"
   ]
  }
 ],
 "metadata": {
  "kernelspec": {
   "display_name": "Python 3 (ipykernel)",
   "language": "python",
   "name": "python3"
  },
  "language_info": {
   "codemirror_mode": {
    "name": "ipython",
    "version": 3
   },
   "file_extension": ".py",
   "mimetype": "text/x-python",
   "name": "python",
   "nbconvert_exporter": "python",
   "pygments_lexer": "ipython3",
   "version": "3.10.11"
  }
 },
 "nbformat": 4,
 "nbformat_minor": 5
}
